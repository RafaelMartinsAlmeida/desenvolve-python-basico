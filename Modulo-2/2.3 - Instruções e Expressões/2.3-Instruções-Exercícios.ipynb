{
 "cells": [
  {
   "cell_type": "markdown",
   "metadata": {
    "id": "1pCTdOHonv5f"
   },
   "source": [
    "# Módulo 2\n",
    "\n",
    "## 2.3 Instruções e Expressões\n",
    "\n",
    "### Q1\n",
    "\n",
    "Faça um programa que armazene o valor de 20 reais de salário por hora de um trabalhador, e o número de 40 horas trabalhadas na semana. Com essas informações, calcule e imprima:\n",
    "- Salário semanal bruto\n",
    "- Valor descontado por semana INSS (10% do bruto)\n",
    "- Valor descontado por semana pelo sindicato (5% do bruto)\n",
    "- Salário semanal líquido (Bruto - Descontos)"
   ]
  },
  {
   "cell_type": "code",
   "execution_count": 2,
   "metadata": {
    "id": "hVbX0I97nj6M"
   },
   "outputs": [
    {
     "name": "stdout",
     "output_type": "stream",
     "text": [
      "Salário semanal bruto: R$ 800.00\n",
      "Desconto INSS: R$ 80.00\n",
      "Desconto Sindicato: R$ 40.00\n",
      "Salário semanal líquido: R$ 680.00\n"
     ]
    }
   ],
   "source": [
    "## Escreva e execute seu código aqui\n",
    "\n",
    "# Valores fixos\n",
    "salario_por_hora = 20.0  # R$ 20 por hora\n",
    "horas_trabalhadas_por_semana = 40  # 40 horas por semana\n",
    "\n",
    "# Cálculos\n",
    "salario_bruto = salario_por_hora * horas_trabalhadas_por_semana  # Salário semanal bruto\n",
    "desconto_inss = salario_bruto * 0.10  # 10% do bruto para o INSS\n",
    "desconto_sindicato = salario_bruto * 0.05  # 5% do bruto para o sindicato\n",
    "salario_liquido = salario_bruto - (desconto_inss + desconto_sindicato)  # Salário líquido\n",
    "\n",
    "# Impressão dos resultados\n",
    "print(f\"Salário semanal bruto: R$ {salario_bruto:.2f}\")\n",
    "print(f\"Desconto INSS: R$ {desconto_inss:.2f}\")\n",
    "print(f\"Desconto Sindicato: R$ {desconto_sindicato:.2f}\")\n",
    "print(f\"Salário semanal líquido: R$ {salario_liquido:.2f}\")\n"
   ]
  },
  {
   "cell_type": "markdown",
   "metadata": {
    "id": "pIxKX9J2oGZ1"
   },
   "source": [
    "### Q2\n",
    "\n",
    "Altere o programa anterior para a partir dos valores de horas trabalhadas por semana e salário por hora, calcular **em somente duas instruções**:\n",
    "- Salário semanal bruto\n",
    "- Salário semanal líquido com todos os descontos. Para a segunda instrução, realize todos os cálculos aritméticos em uma expressão composta.\n"
   ]
  },
  {
   "cell_type": "code",
   "execution_count": 1,
   "metadata": {
    "id": "pAHw9Xf9oGoi"
   },
   "outputs": [
    {
     "name": "stdout",
     "output_type": "stream",
     "text": [
      "Salário semanal bruto: R$ 800.00\n",
      "Salário semanal líquido: R$ 680.00\n"
     ]
    }
   ],
   "source": [
    "## Escreva e execute seu código aqui\n",
    "\n",
    "# Valores fixos\n",
    "salario_por_hora = 20.0  # R$ 20 por hora\n",
    "horas_trabalhadas_por_semana = 40  # 40 horas por semana\n",
    "\n",
    "# Instrução 1: Cálculo do salário semanal bruto\n",
    "salario_bruto = salario_por_hora * horas_trabalhadas_por_semana\n",
    "\n",
    "# Instrução 2: Cálculo do salário semanal líquido (com todos os descontos numa única expressão)\n",
    "salario_liquido = salario_bruto - (salario_bruto * 0.10 + salario_bruto * 0.05)\n",
    "\n",
    "# Impressão dos resultados\n",
    "print(f\"Salário semanal bruto: R$ {salario_bruto:.2f}\")\n",
    "print(f\"Salário semanal líquido: R$ {salario_liquido:.2f}\")\n"
   ]
  },
  {
   "cell_type": "markdown",
   "metadata": {
    "id": "m8tlHRuWpBOB"
   },
   "source": [
    "### Q3\n",
    "\n",
    "Você está desenvolvendo um software de conversão de moeda e precisa calcular o valor equivalente em yuan chinês a partir de uma quantia em real. A taxa de câmbio é de 0.69 BRL (real) para 1 CNY (yuan). Escreva um programa que define em uma variável uma quantia em reais (BRL) e calcula o valor equivalente em yuan (CNY). Imprima o resultado."
   ]
  },
  {
   "cell_type": "code",
   "execution_count": 4,
   "metadata": {
    "id": "2bPw7uF6oeL9"
   },
   "outputs": [
    {
     "name": "stdout",
     "output_type": "stream",
     "text": [
      "R$ 100.00 equivalem a ¥ 144.93\n"
     ]
    }
   ],
   "source": [
    "## Escreva e execute seu código aqui\n",
    "\n",
    "# Definir a quantia em reais (BRL)\n",
    "quantia_reais = 100.0  # Exemplo: 100 reais\n",
    "\n",
    "# Taxa de câmbio: 0.69 BRL = 1 CNY\n",
    "taxa_cambio = 0.69\n",
    "\n",
    "# Cálculo do valor equivalente em yuan (CNY)\n",
    "valor_yuan = quantia_reais / taxa_cambio\n",
    "\n",
    "# Impressão do resultado\n",
    "print(f\"R$ {quantia_reais:.2f} equivalem a ¥ {valor_yuan:.2f}\")\n"
   ]
  },
  {
   "cell_type": "markdown",
   "metadata": {
    "id": "-Na3ltDCp74A"
   },
   "source": [
    "### Q4\n",
    "\n",
    "Você é um treinador de corrida e deseja calcular a velocidade média que um atleta precisa manter para completar a Maratona Internacional de São Silvestre, que tem uma distância total de 42.195 km. A fórmula para calcular a velocidade média ($v\\_media$) é dada por $v\\_media = \\frac{distancia}{tempo}$ . Escreva um programa em Python para calcular a velocidade média necessária para completar a maratona em 3 horas.\n",
    "\n",
    "**Calcule e imprima o resultado em metros/segundo**, ou seja, converta a distância de quilômetros para metros ($metro = \\frac{km}{1000}$) e a velocidade de horas para segundos $(segundo = \\frac{hora}{3600})$."
   ]
  },
  {
   "cell_type": "code",
   "execution_count": 1,
   "metadata": {
    "id": "Bn6l8kcSrE4L"
   },
   "outputs": [
    {
     "name": "stdout",
     "output_type": "stream",
     "text": [
      "A velocidade média necessária é 3.91 metros por segundo.\n"
     ]
    }
   ],
   "source": [
    "## Escreva e execute seu código aqui\n",
    "\n",
    "# Dados fornecidos\n",
    "distancia_km = 42.195  # Distância da maratona em quilômetros\n",
    "tempo_horas = 3  # Tempo para completar a maratona em horas\n",
    "\n",
    "# Conversão de unidades\n",
    "distancia_metros = distancia_km * 1000  # Convertendo de km para metros\n",
    "tempo_segundos = tempo_horas * 3600  # Convertendo de horas para segundos\n",
    "\n",
    "# Cálculo da velocidade média\n",
    "velocidade_media = distancia_metros / tempo_segundos\n",
    "\n",
    "# Impressão do resultado\n",
    "print(f\"A velocidade média necessária é {velocidade_media:.2f} metros por segundo.\")\n"
   ]
  }
 ],
 "metadata": {
  "colab": {
   "provenance": []
  },
  "kernelspec": {
   "display_name": "Python 3",
   "name": "python3"
  },
  "language_info": {
   "codemirror_mode": {
    "name": "ipython",
    "version": 3
   },
   "file_extension": ".py",
   "mimetype": "text/x-python",
   "name": "python",
   "nbconvert_exporter": "python",
   "pygments_lexer": "ipython3",
   "version": "3.12.2"
  }
 },
 "nbformat": 4,
 "nbformat_minor": 0
}
